{
 "cells": [
  {
   "cell_type": "markdown",
   "id": "55743e32",
   "metadata": {},
   "source": [
    "### Inhaltsverzeichnis\n",
    "\n",
    "* [1. Packete Impotieren](#import_packages)\n",
    "* [2. Daten einlesen](#read_data)\n",
    "* [3. Encoding](#encoding)"
   ]
  },
  {
   "cell_type": "markdown",
   "id": "98b661a4",
   "metadata": {},
   "source": [
    "## 1. Packete Impotieren <a class=\"anchor\" id=\"import_packages\"></a>"
   ]
  },
  {
   "cell_type": "code",
   "execution_count": 1,
   "id": "32b92103",
   "metadata": {},
   "outputs": [],
   "source": [
    "import pandas as pd\n",
    "import numpy as np\n",
    "\n",
    "from sklearn import preprocessing\n",
    "\n",
    "import glob\n",
    "import os"
   ]
  },
  {
   "cell_type": "markdown",
   "id": "7025b9c0",
   "metadata": {},
   "source": [
    "## 2. Daten einlesen <a class=\"anchor\" id=\"read_data\"></a>"
   ]
  },
  {
   "cell_type": "markdown",
   "id": "96ee3993",
   "metadata": {},
   "source": [
    "<img src=\"img/model.png\" alt=\"Model\" style=\"width: 700px; float: left;\"/>"
   ]
  },
  {
   "cell_type": "code",
   "execution_count": 2,
   "id": "9fc5c3bc",
   "metadata": {},
   "outputs": [],
   "source": [
    "path = './../CSVs/mergedCSVs'\n",
    "all_files = glob.glob(path + \"/*.csv\")\n",
    "\n",
    "dataframes = []\n",
    "dataframeNames = []\n",
    "\n",
    "for filename in all_files:\n",
    "    df = pd.read_csv(filename, index_col=None, header=0)\n",
    "    \n",
    "    dataframes.append(df)\n",
    "    dataframeNames.append(os.path.basename(filename))"
   ]
  },
  {
   "cell_type": "markdown",
   "id": "d9e259a0",
   "metadata": {},
   "source": [
    "## 3. Encoding <a class=\"anchor\" id=\"encoding\"></a>"
   ]
  },
  {
   "cell_type": "markdown",
   "id": "cbd78f5a",
   "metadata": {},
   "source": [
    "Alle Dataframes haben die gleichen Kategorischen Spalten."
   ]
  },
  {
   "cell_type": "markdown",
   "id": "28309dd7",
   "metadata": {},
   "source": [
    "**Nominale Merkmale:**\n",
    "- region\n",
    "- gender\n",
    "- code_module\n",
    "- disability\n",
    "\n",
    "**Oridnale Merkmale:**\n",
    "- imd_band\n",
    "- age_band\n",
    "- highest_education\n",
    "- code_presentation"
   ]
  },
  {
   "cell_type": "code",
   "execution_count": 3,
   "id": "4611277f",
   "metadata": {
    "scrolled": true
   },
   "outputs": [],
   "source": [
    "nominalFeatures = ['region',\n",
    "                   'gender',\n",
    "                   'code_module',\n",
    "                   'disability']\n",
    "\n",
    "ordinalFeatures = ['imd_band',\n",
    "                   'age_band',\n",
    "                   'highest_education',\n",
    "                   'code_presentation']"
   ]
  },
  {
   "cell_type": "code",
   "execution_count": 4,
   "id": "b66967d5",
   "metadata": {},
   "outputs": [],
   "source": [
    "for idx in range(len(dataframes)):\n",
    "    \n",
    "    # Dataframe und Namen bekommen\n",
    "    df = dataframes[idx]\n",
    "    dfName = dataframeNames[idx]\n",
    "    \n",
    "    # Alle Numeric Dataframes\n",
    "    numericDF = df.select_dtypes(include=np.number)\n",
    "\n",
    "    # Nominale Merkmale Encoden\n",
    "    for entry in nominalFeatures:\n",
    "        numericDF = numericDF.join(pd.get_dummies(df[entry]))\n",
    "        \n",
    "    # Ordinale Merkmale Encoden \n",
    "    label_encoder = preprocessing.LabelEncoder()\n",
    "    \n",
    "    for entry in ordinalFeatures:\n",
    "        numericDF[entry] = label_encoder.fit_transform(df[entry])\n",
    "    \n",
    "    # Student ID wird nicht benötigt\n",
    "    numericDF = numericDF.drop(columns=['id_student'])\n",
    "    \n",
    "    finalDF = numericDF.join(df['final_result'])\n",
    "    \n",
    "    # Dataframe abspeichern\n",
    "    finalDF.to_csv('./../CSVs/encodedCSVs/' + dfName, index=False)"
   ]
  }
 ],
 "metadata": {
  "kernelspec": {
   "display_name": "Python 3 (ipykernel)",
   "language": "python",
   "name": "python3"
  },
  "language_info": {
   "codemirror_mode": {
    "name": "ipython",
    "version": 3
   },
   "file_extension": ".py",
   "mimetype": "text/x-python",
   "name": "python",
   "nbconvert_exporter": "python",
   "pygments_lexer": "ipython3",
   "version": "3.8.10"
  }
 },
 "nbformat": 4,
 "nbformat_minor": 5
}
